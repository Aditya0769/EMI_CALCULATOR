{
 "cells": [
  {
   "cell_type": "raw",
   "id": "8b24a4ea",
   "metadata": {},
   "source": [
    "Using a Python code, answer the following:\n",
    " \n",
    "1. Let’s calculate the Home Loan EMI now using Python code. Principal Amount 50Lakhs, Rate of interest 8%, and Loan repayment tenure is 15 years. Find the EMI to be paid?\n",
    " \n",
    "2. If the interest rate increases to 10%, and you cannot pay more than 30,000 as EMI, find the maximum amount of Loan you can take/afford for the same period?\n",
    "\n",
    "3. For the Que 1. what is the total interest paid by you year-wise (from the 1st year to the 15th year). Also, what is the total cumulative interest paid by you in 15 years?\n",
    " \n",
    "4. For the Que 1., in how many months would you have paid atleast 50% of the Principal amount."
   ]
  },
  {
   "cell_type": "markdown",
   "id": "87bfe21b",
   "metadata": {},
   "source": [
    "# Question 1"
   ]
  },
  {
   "cell_type": "code",
   "execution_count": 5,
   "id": "be4ff6f8",
   "metadata": {},
   "outputs": [
    {
     "name": "stdout",
     "output_type": "stream",
     "text": [
      "EMI: 47782.60\n"
     ]
    }
   ],
   "source": [
    "# Principal amount\n",
    "principal = 5000000\n",
    "\n",
    "# Rate of interest (annual)\n",
    "rate_of_interest_annual = 8\n",
    "\n",
    "# Rate of interest (monthly)\n",
    "rate_of_interest = rate_of_interest_annual/12/100\n",
    "\n",
    "# Loan repayment tenure in years\n",
    "tenure = 15\n",
    "\n",
    "# Tenure in months\n",
    "n = tenure * 12\n",
    "\n",
    "# EMI formula\n",
    "def calculate_emi(principal, rate_of_interest, n):\n",
    "    return principal * rate_of_interest * (1 + rate_of_interest)**n / ((1 + rate_of_interest)**n - 1)\n",
    "\n",
    "# Calculate EMI\n",
    "emi = calculate_emi(principal, rate_of_interest, n)\n",
    "\n",
    "# Print EMI\n",
    "print(f\"EMI: {emi:.2f}\")"
   ]
  },
  {
   "cell_type": "markdown",
   "id": "043915a1",
   "metadata": {},
   "source": [
    "# Question 2"
   ]
  },
  {
   "cell_type": "code",
   "execution_count": 2,
   "id": "2db8b1d7",
   "metadata": {},
   "outputs": [
    {
     "name": "stdout",
     "output_type": "stream",
     "text": [
      "Maximum loan amount: 2791723.16\n"
     ]
    }
   ],
   "source": [
    "# Rate of interest (annual)\n",
    "rate_of_interest_annual = 10\n",
    "\n",
    "# Rate of interest (monthly)\n",
    "rate_of_interest = rate_of_interest_annual/12/100\n",
    "\n",
    "# Loan repayment tenure in years\n",
    "tenure = 15\n",
    "\n",
    "# Tenure in months\n",
    "n = tenure * 12\n",
    "\n",
    "# Maximum loan amount that can be afforded with EMI of 30000\n",
    "max_loan_amount = 30000 * ((1 + rate_of_interest)**n - 1) / (rate_of_interest * (1 + rate_of_interest)**n)\n",
    "\n",
    "# Print maximum loan amount\n",
    "print(f\"Maximum loan amount: {max_loan_amount:.2f}\")"
   ]
  },
  {
   "cell_type": "markdown",
   "id": "dd29a9cc",
   "metadata": {},
   "source": [
    "# Question 3"
   ]
  },
  {
   "cell_type": "code",
   "execution_count": 3,
   "id": "2853c4eb",
   "metadata": {},
   "outputs": [
    {
     "name": "stdout",
     "output_type": "stream",
     "text": [
      "Year 1: interest paid = 399999.99999999994, cumulative interest = 399999.99999999994\n",
      "Year 2: interest paid = 368000.0, cumulative interest = 768000.0\n",
      "Year 3: interest paid = 338560.0, cumulative interest = 1106560.0\n",
      "Year 4: interest paid = 311475.2, cumulative interest = 1418035.2\n",
      "Year 5: interest paid = 286557.18399999995, cumulative interest = 1704592.3839999998\n",
      "Year 6: interest paid = 263632.60928, cumulative interest = 1968224.9932799998\n",
      "Year 7: interest paid = 242542.00053759996, cumulative interest = 2210766.9938176\n",
      "Year 8: interest paid = 223138.640494592, cumulative interest = 2433905.634312192\n",
      "Year 9: interest paid = 205287.5492550246, cumulative interest = 2639193.1835672166\n",
      "Year 10: interest paid = 188864.54531462266, cumulative interest = 2828057.728881839\n",
      "Year 11: interest paid = 173755.38168945286, cumulative interest = 3001813.110571292\n",
      "Year 12: interest paid = 159854.95115429664, cumulative interest = 3161668.061725589\n",
      "Year 13: interest paid = 147066.5550619529, cumulative interest = 3308734.6167875417\n",
      "Year 14: interest paid = 135301.23065699666, cumulative interest = 3444035.8474445385\n",
      "Year 15: interest paid = 124477.13220443694, cumulative interest = 3568512.9796489757\n"
     ]
    }
   ],
   "source": [
    "A = 5000000\n",
    "r = 8/12/100\n",
    "n = 15*12\n",
    "P = (r*A)/(1-(1+r)**(-n))\n",
    "\n",
    "cumulative_interest = 0\n",
    "remaining_principal = A\n",
    "for year in range(1, 16):\n",
    "    interest_paid = remaining_principal * r * 12\n",
    "    remaining_principal -= interest_paid\n",
    "    cumulative_interest += interest_paid\n",
    "    print(f\"Year {year}: interest paid = {interest_paid}, cumulative interest = {cumulative_interest}\")"
   ]
  },
  {
   "cell_type": "markdown",
   "id": "6abd492e",
   "metadata": {},
   "source": [
    "# Question 4"
   ]
  },
  {
   "cell_type": "code",
   "execution_count": 4,
   "id": "2f2a3fa2",
   "metadata": {},
   "outputs": [
    {
     "name": "stdout",
     "output_type": "stream",
     "text": [
      "Months 1: total amount paid 47782.604216517815\n",
      "Months 2: total amount paid 95565.20843303563\n",
      "Months 3: total amount paid 143347.81264955344\n",
      "Months 4: total amount paid 191130.41686607126\n",
      "Months 5: total amount paid 238913.02108258908\n",
      "Months 6: total amount paid 286695.6252991069\n",
      "Months 7: total amount paid 334478.2295156247\n",
      "Months 8: total amount paid 382260.8337321425\n",
      "Months 9: total amount paid 430043.43794866034\n",
      "Months 10: total amount paid 477826.04216517817\n",
      "Months 11: total amount paid 525608.646381696\n",
      "Months 12: total amount paid 573391.2505982138\n",
      "Months 13: total amount paid 621173.8548147315\n",
      "Months 14: total amount paid 668956.4590312493\n",
      "Months 15: total amount paid 716739.063247767\n",
      "Months 16: total amount paid 764521.6674642848\n",
      "Months 17: total amount paid 812304.2716808026\n",
      "Months 18: total amount paid 860086.8758973203\n",
      "Months 19: total amount paid 907869.4801138381\n",
      "Months 20: total amount paid 955652.0843303559\n",
      "Months 21: total amount paid 1003434.6885468736\n",
      "Months 22: total amount paid 1051217.2927633915\n",
      "Months 23: total amount paid 1098999.8969799094\n",
      "Months 24: total amount paid 1146782.5011964273\n",
      "Months 25: total amount paid 1194565.1054129452\n",
      "Months 26: total amount paid 1242347.709629463\n",
      "Months 27: total amount paid 1290130.313845981\n",
      "Months 28: total amount paid 1337912.9180624988\n",
      "Months 29: total amount paid 1385695.5222790167\n",
      "Months 30: total amount paid 1433478.1264955346\n",
      "Months 31: total amount paid 1481260.7307120524\n",
      "Months 32: total amount paid 1529043.3349285703\n",
      "Months 33: total amount paid 1576825.9391450882\n",
      "Months 34: total amount paid 1624608.543361606\n",
      "Months 35: total amount paid 1672391.147578124\n",
      "Months 36: total amount paid 1720173.7517946418\n",
      "Months 37: total amount paid 1767956.3560111597\n",
      "Months 38: total amount paid 1815738.9602276776\n",
      "Months 39: total amount paid 1863521.5644441955\n",
      "Months 40: total amount paid 1911304.1686607134\n",
      "Months 41: total amount paid 1959086.7728772312\n",
      "Months 42: total amount paid 2006869.3770937491\n",
      "Months 43: total amount paid 2054651.981310267\n",
      "Months 44: total amount paid 2102434.585526785\n",
      "Months 45: total amount paid 2150217.1897433028\n",
      "Months 46: total amount paid 2197999.7939598206\n",
      "Months 47: total amount paid 2245782.3981763385\n",
      "Months 48: total amount paid 2293565.0023928564\n",
      "Months 49: total amount paid 2341347.6066093743\n",
      "Months 50: total amount paid 2389130.210825892\n",
      "Months 51: total amount paid 2436912.81504241\n",
      "Months 52: total amount paid 2484695.419258928\n",
      "Months 53: total amount paid 2532478.023475446\n",
      "Number of months required to pay at least 50% of the principal amount: 53\n"
     ]
    }
   ],
   "source": [
    "principal_amount = 5000000 # 50 lakhs converted to rupees\n",
    "rate_of_interest = 8/12/100 # 8% annual interest converted to decimal\n",
    "loan_repayment_tenure = 15 # 15 years\n",
    "# convert loan repayment tenure to months\n",
    "loan_repayment_tenure_in_months = loan_repayment_tenure * 12\n",
    "# calculate EMI\n",
    "emi = principal_amount * rate_of_interest * ((1 + rate_of_interest)**loan_repayment_tenure_in_months) / (((1 + rate_of_interest)**loan_repayment_tenure_in_months) - 1)\n",
    "# initialize the number of months and total amount paid\n",
    "num_months = 0\n",
    "total_amount_paid = 0\n",
    "\n",
    "# loop until at least 50% of the principal amount is paid\n",
    "while total_amount_paid < principal_amount/2:\n",
    "    num_months += 1\n",
    "    total_amount_paid += emi\n",
    "    print(f\"Months {num_months}: total amount paid {total_amount_paid}\")\n",
    "\n",
    "print(\"Number of months required to pay at least 50% of the principal amount:\", num_months)"
   ]
  },
  {
   "cell_type": "code",
   "execution_count": null,
   "id": "ced9c959",
   "metadata": {},
   "outputs": [],
   "source": []
  }
 ],
 "metadata": {
  "kernelspec": {
   "display_name": "Python 3 (ipykernel)",
   "language": "python",
   "name": "python3"
  },
  "language_info": {
   "codemirror_mode": {
    "name": "ipython",
    "version": 3
   },
   "file_extension": ".py",
   "mimetype": "text/x-python",
   "name": "python",
   "nbconvert_exporter": "python",
   "pygments_lexer": "ipython3",
   "version": "3.9.12"
  }
 },
 "nbformat": 4,
 "nbformat_minor": 5
}
